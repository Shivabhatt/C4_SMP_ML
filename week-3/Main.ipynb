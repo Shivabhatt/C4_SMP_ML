{
 "cells": [
  {
   "cell_type": "code",
   "execution_count": 5,
   "metadata": {},
   "outputs": [
    {
     "name": "stdout",
     "output_type": "stream",
     "text": [
      "Accuracy is: 88.49142857142857 %\n"
     ]
    },
    {
     "data": {
      "text/plain": [
       "['digits_cls.pkl']"
      ]
     },
     "execution_count": 5,
     "metadata": {},
     "output_type": "execute_result"
    }
   ],
   "source": [
    "# Import the modules\n",
    "from sklearn.externals import joblib\n",
    "from sklearn import datasets\n",
    "from skimage.feature import hog\n",
    "from sklearn.svm import LinearSVC\n",
    "import numpy as np\n",
    "X,y= datasets.fetch_openml('mnist_784', version=1, return_X_y=True)                                                                        #importing datset and labels straight from sklearn\n",
    "Images = np.array(X, 'int16')                                                                                                              #converting list of Images into a numpy array.\n",
    "labels = np.array(y, 'int')\n",
    "list_hog_fd = []\n",
    "for Image in Images:\n",
    "    fd = hog(Image.reshape((28, 28)), orientations=9, pixels_per_cell=(14, 14), cells_per_block=(1, 1), visualize=False,block_norm='L2')    # using hog algorithm to extract features from each image\n",
    "    list_hog_fd.append(fd)                                                                                                                  #adding the hog features extracted from the image into a list\n",
    "hog_features = np.array(list_hog_fd, 'float64')                                                                                             #converting the HOG feature list into a numpy array\n",
    "\n",
    "'''\n",
    "Two line code to train entire dataset\n",
    "load the LinearSVC() model into clf\n",
    "and then fit hog_features and list into clf\n",
    "'''\n",
    "clf=LinearSVC()\n",
    "clf.fit(hog_features,labels)\n",
    "\n",
    "print('Accuracy is:',clf.score(hog_features,labels)*100,'%')\n",
    "joblib.dump(clf, \"digits_cls.pkl\", compress=3)   "
   ]
  },
  {
   "cell_type": "code",
   "execution_count": null,
   "metadata": {},
   "outputs": [],
   "source": []
  }
 ],
 "metadata": {
  "kernelspec": {
   "display_name": "Python 3",
   "language": "python",
   "name": "python3"
  },
  "language_info": {
   "codemirror_mode": {
    "name": "ipython",
    "version": 3
   },
   "file_extension": ".py",
   "mimetype": "text/x-python",
   "name": "python",
   "nbconvert_exporter": "python",
   "pygments_lexer": "ipython3",
   "version": "3.7.6"
  }
 },
 "nbformat": 4,
 "nbformat_minor": 4
}
